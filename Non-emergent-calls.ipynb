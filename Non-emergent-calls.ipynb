{
 "cells": [
  {
   "cell_type": "markdown",
   "id": "restricted-pixel",
   "metadata": {},
   "source": [
    "# 311 (Non-Emergent) Calls Dataset\n",
    "## Alvyn Berg\n",
    "\n",
    "This notebook uses "
   ]
  },
  {
   "cell_type": "code",
   "execution_count": 3,
   "id": "photographic-newcastle",
   "metadata": {},
   "outputs": [
    {
     "data": {
      "text/html": [
       "<div>\n",
       "<style scoped>\n",
       "    .dataframe tbody tr th:only-of-type {\n",
       "        vertical-align: middle;\n",
       "    }\n",
       "\n",
       "    .dataframe tbody tr th {\n",
       "        vertical-align: top;\n",
       "    }\n",
       "\n",
       "    .dataframe thead th {\n",
       "        text-align: right;\n",
       "    }\n",
       "</style>\n",
       "<table border=\"1\" class=\"dataframe\">\n",
       "  <thead>\n",
       "    <tr style=\"text-align: right;\">\n",
       "      <th></th>\n",
       "      <th>REQUEST_ID</th>\n",
       "      <th>CREATED_ON</th>\n",
       "      <th>REQUEST_TYPE</th>\n",
       "      <th>REQUEST_ORIGIN</th>\n",
       "      <th>STATUS</th>\n",
       "      <th>DEPARTMENT</th>\n",
       "      <th>NEIGHBORHOOD</th>\n",
       "      <th>COUNCIL_DISTRICT</th>\n",
       "      <th>WARD</th>\n",
       "      <th>TRACT</th>\n",
       "      <th>PUBLIC_WORKS_DIVISION</th>\n",
       "      <th>PLI_DIVISION</th>\n",
       "      <th>POLICE_ZONE</th>\n",
       "      <th>FIRE_ZONE</th>\n",
       "      <th>X</th>\n",
       "      <th>Y</th>\n",
       "      <th>GEO_ACCURACY</th>\n",
       "    </tr>\n",
       "  </thead>\n",
       "  <tbody>\n",
       "    <tr>\n",
       "      <th>0</th>\n",
       "      <td>203364.0</td>\n",
       "      <td>2017-12-15T14:53:00</td>\n",
       "      <td>Street Obstruction/Closure</td>\n",
       "      <td>Call Center</td>\n",
       "      <td>1</td>\n",
       "      <td>DOMI - Permits</td>\n",
       "      <td>Central Northside</td>\n",
       "      <td>1.0</td>\n",
       "      <td>22.0</td>\n",
       "      <td>4.200322e+10</td>\n",
       "      <td>1.0</td>\n",
       "      <td>22.0</td>\n",
       "      <td>1.0</td>\n",
       "      <td>1-7</td>\n",
       "      <td>-80.016716</td>\n",
       "      <td>40.454144</td>\n",
       "      <td>EXACT</td>\n",
       "    </tr>\n",
       "    <tr>\n",
       "      <th>1</th>\n",
       "      <td>200800.0</td>\n",
       "      <td>2017-11-29T09:54:00</td>\n",
       "      <td>Graffiti</td>\n",
       "      <td>Control Panel</td>\n",
       "      <td>1</td>\n",
       "      <td>Police - Zones 1-6</td>\n",
       "      <td>South Side Flats</td>\n",
       "      <td>3.0</td>\n",
       "      <td>16.0</td>\n",
       "      <td>4.200316e+10</td>\n",
       "      <td>3.0</td>\n",
       "      <td>16.0</td>\n",
       "      <td>3.0</td>\n",
       "      <td>4-24</td>\n",
       "      <td>-79.969952</td>\n",
       "      <td>40.429243</td>\n",
       "      <td>APPROXIMATE</td>\n",
       "    </tr>\n",
       "    <tr>\n",
       "      <th>2</th>\n",
       "      <td>201310.0</td>\n",
       "      <td>2017-12-01T13:23:00</td>\n",
       "      <td>Litter</td>\n",
       "      <td>Call Center</td>\n",
       "      <td>1</td>\n",
       "      <td>DPW - Street Maintenance</td>\n",
       "      <td>Troy Hill</td>\n",
       "      <td>1.0</td>\n",
       "      <td>24.0</td>\n",
       "      <td>4.200324e+10</td>\n",
       "      <td>1.0</td>\n",
       "      <td>24.0</td>\n",
       "      <td>1.0</td>\n",
       "      <td>1-2</td>\n",
       "      <td>-79.985859</td>\n",
       "      <td>40.459716</td>\n",
       "      <td>EXACT</td>\n",
       "    </tr>\n",
       "    <tr>\n",
       "      <th>3</th>\n",
       "      <td>200171.0</td>\n",
       "      <td>2017-11-22T14:54:00</td>\n",
       "      <td>Water Main Break</td>\n",
       "      <td>Call Center</td>\n",
       "      <td>1</td>\n",
       "      <td>Pittsburgh Water and Sewer Authority</td>\n",
       "      <td>Banksville</td>\n",
       "      <td>2.0</td>\n",
       "      <td>20.0</td>\n",
       "      <td>4.200320e+10</td>\n",
       "      <td>5.0</td>\n",
       "      <td>20.0</td>\n",
       "      <td>6.0</td>\n",
       "      <td>4-9</td>\n",
       "      <td>-80.034210</td>\n",
       "      <td>40.406969</td>\n",
       "      <td>EXACT</td>\n",
       "    </tr>\n",
       "    <tr>\n",
       "      <th>4</th>\n",
       "      <td>193043.0</td>\n",
       "      <td>2017-10-12T12:46:00</td>\n",
       "      <td>Guide Rail</td>\n",
       "      <td>Call Center</td>\n",
       "      <td>1</td>\n",
       "      <td>DPW - Construction Division</td>\n",
       "      <td>East Hills</td>\n",
       "      <td>9.0</td>\n",
       "      <td>13.0</td>\n",
       "      <td>4.200313e+10</td>\n",
       "      <td>2.0</td>\n",
       "      <td>13.0</td>\n",
       "      <td>5.0</td>\n",
       "      <td>3-19</td>\n",
       "      <td>-79.876582</td>\n",
       "      <td>40.451226</td>\n",
       "      <td>EXACT</td>\n",
       "    </tr>\n",
       "    <tr>\n",
       "      <th>...</th>\n",
       "      <td>...</td>\n",
       "      <td>...</td>\n",
       "      <td>...</td>\n",
       "      <td>...</td>\n",
       "      <td>...</td>\n",
       "      <td>...</td>\n",
       "      <td>...</td>\n",
       "      <td>...</td>\n",
       "      <td>...</td>\n",
       "      <td>...</td>\n",
       "      <td>...</td>\n",
       "      <td>...</td>\n",
       "      <td>...</td>\n",
       "      <td>...</td>\n",
       "      <td>...</td>\n",
       "      <td>...</td>\n",
       "      <td>...</td>\n",
       "    </tr>\n",
       "    <tr>\n",
       "      <th>495575</th>\n",
       "      <td>513336.0</td>\n",
       "      <td>2021-04-08T07:49:00</td>\n",
       "      <td>Handicap Parking Signs, Removal</td>\n",
       "      <td>Website</td>\n",
       "      <td>0</td>\n",
       "      <td>DOMI - Traffic</td>\n",
       "      <td>Central Northside</td>\n",
       "      <td>6.0</td>\n",
       "      <td>25.0</td>\n",
       "      <td>4.200325e+10</td>\n",
       "      <td>1.0</td>\n",
       "      <td>25.0</td>\n",
       "      <td>1.0</td>\n",
       "      <td>1-21</td>\n",
       "      <td>-80.011865</td>\n",
       "      <td>40.458536</td>\n",
       "      <td>APPROXIMATE</td>\n",
       "    </tr>\n",
       "    <tr>\n",
       "      <th>495576</th>\n",
       "      <td>513337.0</td>\n",
       "      <td>2021-04-08T07:51:00</td>\n",
       "      <td>Junk Vehicles</td>\n",
       "      <td>Website</td>\n",
       "      <td>0</td>\n",
       "      <td>Permits, Licenses and Inspections</td>\n",
       "      <td>Spring Garden</td>\n",
       "      <td>1.0</td>\n",
       "      <td>24.0</td>\n",
       "      <td>4.200324e+10</td>\n",
       "      <td>1.0</td>\n",
       "      <td>24.0</td>\n",
       "      <td>1.0</td>\n",
       "      <td>1-5</td>\n",
       "      <td>-79.991507</td>\n",
       "      <td>40.459932</td>\n",
       "      <td>APPROXIMATE</td>\n",
       "    </tr>\n",
       "    <tr>\n",
       "      <th>495577</th>\n",
       "      <td>513338.0</td>\n",
       "      <td>2021-04-08T08:04:00</td>\n",
       "      <td>Building Maintenance</td>\n",
       "      <td>Call Center</td>\n",
       "      <td>0</td>\n",
       "      <td>Permits, Licenses and Inspections</td>\n",
       "      <td>South Side Slopes</td>\n",
       "      <td>3.0</td>\n",
       "      <td>17.0</td>\n",
       "      <td>4.200317e+10</td>\n",
       "      <td>3.0</td>\n",
       "      <td>17.0</td>\n",
       "      <td>3.0</td>\n",
       "      <td>4-5</td>\n",
       "      <td>-79.989569</td>\n",
       "      <td>40.425677</td>\n",
       "      <td>APPROXIMATE</td>\n",
       "    </tr>\n",
       "    <tr>\n",
       "      <th>495578</th>\n",
       "      <td>513339.0</td>\n",
       "      <td>2021-04-08T08:06:00</td>\n",
       "      <td>Weeds/Debris</td>\n",
       "      <td>Call Center</td>\n",
       "      <td>0</td>\n",
       "      <td>Permits, Licenses and Inspections</td>\n",
       "      <td>Garfield</td>\n",
       "      <td>9.0</td>\n",
       "      <td>10.0</td>\n",
       "      <td>4.200310e+10</td>\n",
       "      <td>2.0</td>\n",
       "      <td>10.0</td>\n",
       "      <td>5.0</td>\n",
       "      <td>3-4</td>\n",
       "      <td>-79.933804</td>\n",
       "      <td>40.470448</td>\n",
       "      <td>EXACT</td>\n",
       "    </tr>\n",
       "    <tr>\n",
       "      <th>495579</th>\n",
       "      <td>513340.0</td>\n",
       "      <td>2021-04-08T08:14:00</td>\n",
       "      <td>Construction Site Maintenance</td>\n",
       "      <td>Call Center</td>\n",
       "      <td>0</td>\n",
       "      <td>Permits, Licenses and Inspections</td>\n",
       "      <td>North Oakland</td>\n",
       "      <td>8.0</td>\n",
       "      <td>4.0</td>\n",
       "      <td>4.200356e+10</td>\n",
       "      <td>3.0</td>\n",
       "      <td>4.0</td>\n",
       "      <td>4.0</td>\n",
       "      <td>2-9</td>\n",
       "      <td>-79.951021</td>\n",
       "      <td>40.450708</td>\n",
       "      <td>APPROXIMATE</td>\n",
       "    </tr>\n",
       "  </tbody>\n",
       "</table>\n",
       "<p>495580 rows × 17 columns</p>\n",
       "</div>"
      ],
      "text/plain": [
       "        REQUEST_ID           CREATED_ON                      REQUEST_TYPE  \\\n",
       "0         203364.0  2017-12-15T14:53:00        Street Obstruction/Closure   \n",
       "1         200800.0  2017-11-29T09:54:00                          Graffiti   \n",
       "2         201310.0  2017-12-01T13:23:00                            Litter   \n",
       "3         200171.0  2017-11-22T14:54:00                  Water Main Break   \n",
       "4         193043.0  2017-10-12T12:46:00                        Guide Rail   \n",
       "...            ...                  ...                               ...   \n",
       "495575    513336.0  2021-04-08T07:49:00  Handicap Parking Signs, Removal    \n",
       "495576    513337.0  2021-04-08T07:51:00                     Junk Vehicles   \n",
       "495577    513338.0  2021-04-08T08:04:00              Building Maintenance   \n",
       "495578    513339.0  2021-04-08T08:06:00                      Weeds/Debris   \n",
       "495579    513340.0  2021-04-08T08:14:00     Construction Site Maintenance   \n",
       "\n",
       "       REQUEST_ORIGIN  STATUS                            DEPARTMENT  \\\n",
       "0         Call Center       1                        DOMI - Permits   \n",
       "1       Control Panel       1                    Police - Zones 1-6   \n",
       "2         Call Center       1              DPW - Street Maintenance   \n",
       "3         Call Center       1  Pittsburgh Water and Sewer Authority   \n",
       "4         Call Center       1           DPW - Construction Division   \n",
       "...               ...     ...                                   ...   \n",
       "495575        Website       0                        DOMI - Traffic   \n",
       "495576        Website       0     Permits, Licenses and Inspections   \n",
       "495577    Call Center       0     Permits, Licenses and Inspections   \n",
       "495578    Call Center       0     Permits, Licenses and Inspections   \n",
       "495579    Call Center       0     Permits, Licenses and Inspections   \n",
       "\n",
       "             NEIGHBORHOOD  COUNCIL_DISTRICT  WARD         TRACT  \\\n",
       "0       Central Northside               1.0  22.0  4.200322e+10   \n",
       "1        South Side Flats               3.0  16.0  4.200316e+10   \n",
       "2               Troy Hill               1.0  24.0  4.200324e+10   \n",
       "3              Banksville               2.0  20.0  4.200320e+10   \n",
       "4              East Hills               9.0  13.0  4.200313e+10   \n",
       "...                   ...               ...   ...           ...   \n",
       "495575  Central Northside               6.0  25.0  4.200325e+10   \n",
       "495576      Spring Garden               1.0  24.0  4.200324e+10   \n",
       "495577  South Side Slopes               3.0  17.0  4.200317e+10   \n",
       "495578           Garfield               9.0  10.0  4.200310e+10   \n",
       "495579      North Oakland               8.0   4.0  4.200356e+10   \n",
       "\n",
       "        PUBLIC_WORKS_DIVISION  PLI_DIVISION  POLICE_ZONE FIRE_ZONE          X  \\\n",
       "0                         1.0          22.0          1.0       1-7 -80.016716   \n",
       "1                         3.0          16.0          3.0      4-24 -79.969952   \n",
       "2                         1.0          24.0          1.0       1-2 -79.985859   \n",
       "3                         5.0          20.0          6.0       4-9 -80.034210   \n",
       "4                         2.0          13.0          5.0      3-19 -79.876582   \n",
       "...                       ...           ...          ...       ...        ...   \n",
       "495575                    1.0          25.0          1.0      1-21 -80.011865   \n",
       "495576                    1.0          24.0          1.0       1-5 -79.991507   \n",
       "495577                    3.0          17.0          3.0       4-5 -79.989569   \n",
       "495578                    2.0          10.0          5.0       3-4 -79.933804   \n",
       "495579                    3.0           4.0          4.0       2-9 -79.951021   \n",
       "\n",
       "                Y GEO_ACCURACY  \n",
       "0       40.454144        EXACT  \n",
       "1       40.429243  APPROXIMATE  \n",
       "2       40.459716        EXACT  \n",
       "3       40.406969        EXACT  \n",
       "4       40.451226        EXACT  \n",
       "...           ...          ...  \n",
       "495575  40.458536  APPROXIMATE  \n",
       "495576  40.459932  APPROXIMATE  \n",
       "495577  40.425677  APPROXIMATE  \n",
       "495578  40.470448        EXACT  \n",
       "495579  40.450708  APPROXIMATE  \n",
       "\n",
       "[495580 rows x 17 columns]"
      ]
     },
     "execution_count": 3,
     "metadata": {},
     "output_type": "execute_result"
    }
   ],
   "source": [
    "import pandas as pd\n",
    "non_emergent = pd.read_csv(\"Dataset/311data.csv\")\n",
    "\n",
    "non_emergent"
   ]
  },
  {
   "cell_type": "markdown",
   "id": "inside-difference",
   "metadata": {},
   "source": [
    "This 311 calls dataset is a set of non-emergent calls. \n",
    "Let's look at all the neighborhoods in this dataset. "
   ]
  },
  {
   "cell_type": "code",
   "execution_count": 63,
   "id": "oriental-chamber",
   "metadata": {},
   "outputs": [
    {
     "data": {
      "text/plain": "count        455165\nunique           91\ntop       Brookline\nfreq          20427\nName: NEIGHBORHOOD, dtype: object"
     },
     "execution_count": 63,
     "metadata": {},
     "output_type": "execute_result"
    }
   ],
   "source": [
    "non_emergent.NEIGHBORHOOD.describe()"
   ]
  },
  {
   "cell_type": "code",
   "execution_count": 79,
   "outputs": [
    {
     "data": {
      "text/plain": "Potholes                                57850\nWeeds/Debris                            42621\nSnow/Ice removal                        22780\nBuilding Maintenance                    21441\nReferral                                18285\nAbandoned Vehicle (parked on street)    14143\nRefuse Violations                       13899\nMissed Pick Up                          11914\nLitter                                  10321\nIllegal Parking                          9772\nStreet Light - Repair                    9140\nReplace/Repair a Sign                    8977\nBuilding Without a Permit                8091\nCity Source (CDBG)                       7722\nOvergrowth                               6779\nPaving Request                           6710\nQuestion                                 6385\nPruning (city tree)                      5770\nVacant Building                          5099\nRodent control                           4737\nName: REQUEST_TYPE, dtype: int64"
     },
     "execution_count": 79,
     "metadata": {},
     "output_type": "execute_result"
    }
   ],
   "source": [
    "non_emergent.REQUEST_TYPE.value_counts()\n",
    "typecounts = non_emergent.REQUEST_TYPE.value_counts()\n",
    "typecounts.head(20)"
   ],
   "metadata": {
    "collapsed": false,
    "pycharm": {
     "name": "#%%\n"
    }
   }
  },
  {
   "cell_type": "code",
   "execution_count": 81,
   "outputs": [
    {
     "data": {
      "text/plain": "array(['Street Obstruction/Closure', 'Graffiti', 'Litter',\n       'Water Main Break', 'Guide Rail',\n       'Sidewalk/Curb/HC Ramp Maintenance', 'Manhole Cover ',\n       'Neighborhood Issues', \"Mayor's Office\",\n       'Blocked or Closed Sidewalks',\n       'Abandoned Vehicle (parked on street)', 'Parks Trails', 'Leak',\n       'Illegal Dumping', 'Sidewalk Obstruction', 'Other',\n       'Bridge Maintenance', 'Utility Cut - Other',\n       'Tree Fallen Across Sidewalk', 'Permits, Licenses and Inspections',\n       'Traffic Enforcement', 'Dead Tree (3TB)', 'Park Shelter',\n       'Traffic Shop ', 'Traffic or Pedestrian Signal, Repair',\n       'Handicap Parking Signs', 'Request New Sign',\n       'Tree Fallen Across Road', 'Unpermitted Fire System Work',\n       'Paving Concern/Problem', 'Dead tree (Public property)',\n       'Building Maintenance', 'Drainage/Leak', 'Replace/Repair a Sign',\n       'Water/Drinking Fountains', 'Landslide',\n       'Traffic or Pedestrian Signal, Request ', 'Sinkhole', 'Curb Paint',\n       'Weeds/Debris', 'Drug Enforcement', 'Catch Basin, Clogged',\n       'Pruning (city tree)', 'City Steps, Need Repaired', 'Tree Removal',\n       'Utility Cut - PWSA', 'Vacant Building', 'Manhole Covers, PWSA',\n       'Retaining Wall (Public Property)',\n       'Board Up (PLI referral to DPW)', 'Street Cleaning/Sweeping',\n       'Dumpster (on Street)', 'Playground', 'Overgrowth',\n       'Fence Maintenance', 'Retaining Wall Maintenance',\n       'Building Without a Permit', 'Tree Issues', 'Overcrowding',\n       'Potholes', 'City Source (CDBG)', 'Patrol',\n       'Brick/Block or Concrete Slab Repair', 'Retaining Wall ', 'Lights',\n       'Broken Sidewalk', 'Unpermitted HVAC Work', 'Road',\n       'Operating Without a License', 'Collapsed Catch Basin', 'Hydrant',\n       'Check Conditions', 'Excessive Noise/Disturbances', 'Root prune ',\n       'Cited Root Prunes', 'URA property', 'Rodent control',\n       'Snow/Ice removal', 'No Water', 'Smoke detectors',\n       'Missed Pick Up', 'Public Right of Way', 'Shelters',\n       'Litter Can, Public', 'City Steps, Need Cleared',\n       'Fire Safety System Issue', 'Curb/Request for Asphalt Windrow',\n       'Wires', 'Fence', 'Commercial Refuse/Dumpsters',\n       'Permit Parking (Residential Parking Permit)', 'Field',\n       'Lead Testing Kit', 'Barricades', 'Traffic', 'Sewers',\n       'Zoning Issue', 'Refuse Violations', 'Traffic Signal Request',\n       'Utility Pole', 'Junk Vehicles', 'Hydrant - Fire Admin',\n       'Bus Shelter', 'Litter Can', 'Homeless', 'Overgrowth, Parks',\n       'Street Light - Repair', 'New Crosswalk Request',\n       'Unpermitted Electrical Work', 'Port A Potty',\n       'Electrical Violation', 'Early Set Out', 'Dead Animal',\n       'City Facility', 'Maintenance Issue', 'PWSA Billing or Shut Off',\n       'Other (please describe)', 'Vacant Lot', 'Illegal Parking',\n       'Pedestrian/Bicycle Concerns', 'Gang Activity', 'Salt Box',\n       'Thank You - 311', 'Special Pick Up',\n       'Pedestrian Signal Maintenance', 'Dumping, Private Property',\n       'Paving Request', 'Street Light - Request', 'Demolition', 'Bulk',\n       'Court, Basketball or Tennis', 'Water Pressure',\n       'County Maintenance', 'Stormwater Runoff', 'No Parking Variance',\n       'Leaves/Street Cleaning', 'Traffic Signals Surtrac',\n       'Trail Maintenance', 'Basketball Hoop', 'Health Hazard',\n       'Snow Angel Intake', 'Animal Waste', 'Concrete Slab Repair',\n       'New Request', 'Noise', 'Boat/Trailer on Street', 'PAT',\n       'Parking Authority', 'Fire Prevention', 'Performance',\n       'Fire Department', 'Graffiti, Removal', 'Graffiti, Documentation',\n       'Building or Property Maintenance', 'Thank You - Police',\n       'Speeding', 'Sidewalk, Lack of Snow/Ice Removal',\n       'CitiParks Programs', 'Crossing Guards', 'Thank you - DPW',\n       'Abandoned Vehicle', 'Early Trash Set Out',\n       'Americans with Disabilities', 'Handicapped Parking Application',\n       'Thank You - DOMI', 'Nuisance Bar', 'Prostitution',\n       'Discrimination/Unfair Practices', 'Bike Rack Request',\n       'Stagnant Water', 'Schedule Request', 'Curb Cuts', 'Panhandling',\n       'Residency', 'Street Light - Increased Wattage',\n       'Graffiti, Owner Refused DPW Removal',\n       'Permit Parking (Request for RPP zone)', 'Sewage',\n       'Food Safety Complaints', 'Need Potable Water',\n       'Ticket, Pgh Parking Authority', 'Brick or Block Repair',\n       'Bike Lane Bollard', 'City Clerk', 'Public Works Department',\n       'Special Events', 'Bus Stop Request', 'Police Department',\n       'Towed Vehicle', 'Accessibility Construction Issue',\n       'Environmental Services - DO NOT USE/Test',\n       'Unpermitted Land Operations', 'Construction Site Maintenance',\n       'City Council', 'Stump Grind/Removal', 'Paper street',\n       'Replace/Repair Sign', 'Bicycle/Pedestrian Concerns',\n       'Curb paint application', 'Missed Blue Bag',\n       'Loading Zone, Request', 'Leaves, Grass or Other Yard Debris',\n       'Program', 'Late Set Out', 'Claim form (Law)',\n       'Handicap Ramp, Repair', 'Sidewalk (city property)',\n       'PPA Parking Lot', 'Parking Garage', 'Ticket, Police-issued',\n       'Bicycle Parking', 'Dumpster', 'Sidewalk (City Property)',\n       'EMS Procedures', 'Capital Budget Candidate', 'Traffic Calming',\n       'Towed Vehicle/Do Not Use', 'Snow Angel Volunteer', 'City Website',\n       'Sign', 'Mobile Phone App', 'Procedure', 'Traffic Improvement',\n       'Sidewalk has Ice or Litter', 'Thank You - EMS',\n       'Loading zone application', 'Economic Development', 'Sidewalk',\n       'Meter (Water)', 'Demolition - DO NOT USE', 'Barking Dog',\n       'Handicap Ramp, Request for Installation',\n       'Curb /Broken/Deteriorated', 'Fire Safety System Not Working',\n       'Couch on Porch', 'HVAC Not Functioning',\n       'Pedestrian Signal Request', 'Snow/Ice Removal',\n       'Handicap Parking Signs, Removal ',\n       'Improper Work in a Historic District',\n       'Unpermitted Sign Construction',\n       'Handicapped Parking Sign Request', 'Line Striping', 'Planting',\n       'Christmas Tree', 'Curb Painting, New', 'Concern', 'DOMI Andon',\n       'Crosswalk and Street Markings, Maintenance', 'Finance Department',\n       'Repair City Steps', 'Business Accessibility',\n       'Maintenance Conditions', 'Curb Paint, Maintenance',\n       'Parking Meter Request', 'Real Estate Tax', 'Thank you - Finance',\n       'Recycling Questions', 'Employment/Hiring',\n       'Bollard Repair/Maintenance ', 'Sidewalk, Damaged/DO NOT USE',\n       'Signs, Advertising or Political', 'Retaining Wall',\n       'Building Violation (Residential)/DO NOT USE',\n       'Tenant/Landlord Problems', 'KNOWLEDGE BASE ARTICLES',\n       'Building (Residential)/DO NOT USE', 'Question', 'Referral',\n       'Recycling', 'Loose Dog(s)', 'Medical Exemption - Tote',\n       'Thank You', 'Spay/neuter application', 'Meter (broken)',\n       'Thank You - PWSA', 'Street Light Repair',\n       'Cable Bureau/Programming', 'Missed Recycling Pick Up',\n       'Fire Lane', 'Thank You - CitiParks', 'EMS Billing',\n       'Earned Income Tax', 'Amusement Tax', 'Missed Refuse Pick Up',\n       'Thank You - PLI Personnel', 'Alarm Permit',\n       'Off Leash Exercise Area', 'Side Yard Program', 'Dog License',\n       '911 Perfomance', 'Payroll Expense Tax', 'EMT', 'Permits',\n       'Benefits', 'DO NOT USE (Vacant and Open Building)', 'Parking Lot',\n       'Catch Basins', 'Dumping (Private Property)/DO NOT USE',\n       'Property Purchase', 'Billing', 'Homestead Act/Senior Tax Relief',\n       'Water Runoff in ROW', 'Grate, Stormwater', 'Crosswalk, New',\n       'Sidewalk, Overgrowth/Obstruction', 'Building Benchmark Ordinance',\n       'Bicycle/Pedestrian/Trail - Network Improvements', 'Park Ranger',\n       'Potholes-Test', 'Environmental Services - Refuse Accumulation',\n       'Sidewalk/Curb/ADA Ramp Maintenance',\n       'Handicap Ramp, Installation', 'Pavement Marking, New',\n       'Crashes and Close Calls', 'No Dumping Sign',\n       'Application Request', 'Sinkhole, PWSA', 'Scoobi Scooters',\n       'Scoobi/Moped Parking', 'Project Info Request, PAW ',\n       'Project Info Request, PAW', 'Ethics Office',\n       'Sidewalk Closure Violation',\n       'Board Up (City-owned property only)', 'Schenley Ice Rink',\n       'Bus Shelter Relocation Request', 'Storm Damage', 'Improvements',\n       'Parking Tax', 'Handicap Parking Signs, Removal or Repair',\n       'Planning Issues', 'Amenities',\n       'Catch Basin, Request for Installation', 'Greenways', 'Flooding',\n       'Electronic/Hazardous Waste Disposal', 'Blocked or Closed Trails',\n       'Commission on Human Relations',\n       'Line Striping/Curb Painting, New', 'Bulk Pick Up', 'Hold - 311',\n       'HACP', 'COVID - 19 Violations', 'ROW', 'Police Cameras',\n       'E-Waste Voucher', 'Blue Bin Containers',\n       'Litter, Public Property', 'Recycling Violation',\n       'ADA Ramp, Installation'], dtype=object)"
     },
     "execution_count": 81,
     "metadata": {},
     "output_type": "execute_result"
    }
   ],
   "source": [
    "non_emergent.REQUEST_TYPE.unique()"
   ],
   "metadata": {
    "collapsed": false,
    "pycharm": {
     "name": "#%%\n"
    }
   }
  },
  {
   "cell_type": "code",
   "execution_count": 80,
   "outputs": [
    {
     "data": {
      "text/plain": "Brookline               20427\nCarrick                 19461\nSouth Side Slopes       16238\nSquirrel Hill South     16151\nSouth Side Flats        14699\n                        ...  \nEast Carnegie             457\nNorthview Heights         454\nGlen Hazel                305\nArlington Heights          97\nMount Oliver Borough       59\nName: NEIGHBORHOOD, Length: 91, dtype: int64"
     },
     "execution_count": 80,
     "metadata": {},
     "output_type": "execute_result"
    }
   ],
   "source": [
    "non_emergent.NEIGHBORHOOD.value_counts()"
   ],
   "metadata": {
    "collapsed": false,
    "pycharm": {
     "name": "#%%\n"
    }
   }
  },
  {
   "cell_type": "code",
   "execution_count": 78,
   "outputs": [
    {
     "data": {
      "text/plain": "Brookline           379\nCarrick             185\nMorningside         180\nHomewood North      159\nKnoxville           156\n                   ... \nRegent Square         2\nAllegheny West        1\nHays                  1\nEsplen                1\nAllegheny Center      1\nName: NEIGHBORHOOD, Length: 85, dtype: int64"
     },
     "execution_count": 78,
     "metadata": {},
     "output_type": "execute_result"
    }
   ],
   "source": [
    "rodentControl = non_emergent.loc[non_emergent['REQUEST_TYPE'] == 'Rodent control']\n",
    "rcRanking = rodentControl.NEIGHBORHOOD.value_counts()\n",
    "rcRanking"
   ],
   "metadata": {
    "collapsed": false,
    "pycharm": {
     "name": "#%%\n"
    }
   }
  },
  {
   "cell_type": "code",
   "execution_count": null,
   "outputs": [],
   "source": [],
   "metadata": {
    "collapsed": false,
    "pycharm": {
     "name": "#%%\n"
    }
   }
  }
 ],
 "metadata": {
  "kernelspec": {
   "display_name": "Python 3",
   "language": "python",
   "name": "python3"
  },
  "language_info": {
   "codemirror_mode": {
    "name": "ipython",
    "version": 3
   },
   "file_extension": ".py",
   "mimetype": "text/x-python",
   "name": "python",
   "nbconvert_exporter": "python",
   "pygments_lexer": "ipython3",
   "version": "3.8.5"
  }
 },
 "nbformat": 4,
 "nbformat_minor": 5
}